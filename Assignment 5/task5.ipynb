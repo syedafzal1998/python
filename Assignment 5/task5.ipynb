{
 "cells": [
  {
   "cell_type": "code",
   "execution_count": null,
   "metadata": {},
   "outputs": [],
   "source": [
    "p=-1\n",
    "while p!=0:\n",
    "    b=0\n",
    "    p=int(input(\"Enter Number : \"))\n",
    "    for i in range(1,p+1):\n",
    "        for j in range(1,i+1):\n",
    "            if i*j==p and i!=p:\n",
    "                print(\"not Prime\")\n",
    "                b=1\n",
    "                break\n",
    "            elif i*j==p and i==p:\n",
    "                print(\"Prime\")\n",
    "                b=1\n",
    "                break\n",
    "        if b==1: break"
   ]
  },
  {
   "cell_type": "code",
   "execution_count": null,
   "metadata": {},
   "outputs": [],
   "source": []
  }
 ],
 "metadata": {
  "kernelspec": {
   "display_name": "Python 3",
   "language": "python",
   "name": "python3"
  },
  "language_info": {
   "codemirror_mode": {
    "name": "ipython",
    "version": 3
   },
   "file_extension": ".py",
   "mimetype": "text/x-python",
   "name": "python",
   "nbconvert_exporter": "python",
   "pygments_lexer": "ipython3",
   "version": "3.7.3"
  }
 },
 "nbformat": 4,
 "nbformat_minor": 4
}
