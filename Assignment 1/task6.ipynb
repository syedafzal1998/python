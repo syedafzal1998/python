{
 "cells": [
  {
   "cell_type": "code",
   "execution_count": 1,
   "metadata": {},
   "outputs": [
    {
     "name": "stdout",
     "output_type": "stream",
     "text": [
      "\n",
      " Task  No: 5\n",
      "Enter The Value of First Number :45\n",
      "Enter The Value Of Second Number :67\n",
      "The Addition of 45 and 67 is : 112\n"
     ]
    }
   ],
   "source": [
    "#Task 6\n",
    "print(\"\\n Task  No: 5\")\n",
    "a=int(input(\"Enter The Value of First Number :\"))\n",
    "b=int(input(\"Enter The Value Of Second Number :\"))\n",
    "c=a+b\n",
    "print(f\"The Addition of {a} and {b} is : {c}\")\n"
   ]
  },
  {
   "cell_type": "code",
   "execution_count": null,
   "metadata": {},
   "outputs": [],
   "source": []
  }
 ],
 "metadata": {
  "kernelspec": {
   "display_name": "Python 3",
   "language": "python",
   "name": "python3"
  },
  "language_info": {
   "codemirror_mode": {
    "name": "ipython",
    "version": 3
   },
   "file_extension": ".py",
   "mimetype": "text/x-python",
   "name": "python",
   "nbconvert_exporter": "python",
   "pygments_lexer": "ipython3",
   "version": "3.7.4"
  }
 },
 "nbformat": 4,
 "nbformat_minor": 2
}
