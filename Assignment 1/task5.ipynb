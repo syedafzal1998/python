{
 "cells": [
  {
   "cell_type": "code",
   "execution_count": 1,
   "metadata": {},
   "outputs": [
    {
     "name": "stdout",
     "output_type": "stream",
     "text": [
      "\n",
      " Task  No: 5\n",
      "Enter The First Name :Muhammad Zubair\n",
      "Enter The Last Name :Minhas\n",
      "The User Name is  :  Muhammad Zubair Minhas\n",
      "The User Name in Reverse Order:  sahniM riabuZ dammahuM\n"
     ]
    }
   ],
   "source": [
    "#Task 5\n",
    "print(\"\\n Task  No: 5\")\n",
    "First_Name=input(\"Enter The First Name :\")\n",
    "Last_Name=input(\"Enter The Last Name :\")\n",
    "Full_Name=First_Name+\" \"+Last_Name\n",
    "print(\"The User Name is  : \",Full_Name)\n",
    "print(\"The User Name in Reverse Order: \",Full_Name[::-1])\n"
   ]
  },
  {
   "cell_type": "code",
   "execution_count": null,
   "metadata": {},
   "outputs": [],
   "source": []
  }
 ],
 "metadata": {
  "kernelspec": {
   "display_name": "Python 3",
   "language": "python",
   "name": "python3"
  },
  "language_info": {
   "codemirror_mode": {
    "name": "ipython",
    "version": 3
   },
   "file_extension": ".py",
   "mimetype": "text/x-python",
   "name": "python",
   "nbconvert_exporter": "python",
   "pygments_lexer": "ipython3",
   "version": "3.7.4"
  }
 },
 "nbformat": 4,
 "nbformat_minor": 2
}
