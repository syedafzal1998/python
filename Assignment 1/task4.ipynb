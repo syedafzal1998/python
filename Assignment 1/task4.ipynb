{
 "cells": [
  {
   "cell_type": "code",
   "execution_count": 1,
   "metadata": {},
   "outputs": [
    {
     "name": "stdout",
     "output_type": "stream",
     "text": [
      "\n",
      " Task  No: 4\n",
      "Enter The Radius To Find The Area:11\n",
      "Radius is : 11 \n",
      "Area is :34.54\n"
     ]
    }
   ],
   "source": [
    "#Task 4\n",
    "print(\"\\n Task  No: 4\")\n",
    "radius=int(input(\"Enter The Radius To Find The Area:\"))\n",
    "pi=3.14\n",
    "Area=radius*pi\n",
    "print(f\"Radius is : {radius} \\nArea is :{Area}\")\n"
   ]
  },
  {
   "cell_type": "code",
   "execution_count": null,
   "metadata": {},
   "outputs": [],
   "source": []
  }
 ],
 "metadata": {
  "kernelspec": {
   "display_name": "Python 3",
   "language": "python",
   "name": "python3"
  },
  "language_info": {
   "codemirror_mode": {
    "name": "ipython",
    "version": 3
   },
   "file_extension": ".py",
   "mimetype": "text/x-python",
   "name": "python",
   "nbconvert_exporter": "python",
   "pygments_lexer": "ipython3",
   "version": "3.7.4"
  }
 },
 "nbformat": 4,
 "nbformat_minor": 2
}
