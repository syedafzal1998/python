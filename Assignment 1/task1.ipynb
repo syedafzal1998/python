{
 "cells": [
  {
   "cell_type": "code",
   "execution_count": 4,
   "metadata": {},
   "outputs": [
    {
     "name": "stdout",
     "output_type": "stream",
     "text": [
      "+++++++++++++++++++++++++++Assignment No 1++++++++++++++++++++++++++\n",
      "\n",
      " Task  No: 1\n",
      "\t\t Twinkle,  twinkle,  little  star,\n",
      "\t\t\t How  I  Wonder  What You  are !\n",
      "\t\t\t\t Up above the world so high, \n",
      "\t\t\t\t Like a diamond in the sky.\n",
      "\t\t Twinkle,  twinkle,  little  star,\n",
      "\t\t\t How  I  Wonder  What You  are  \n"
     ]
    }
   ],
   "source": [
    "print(\"+++++++++++++++++++++++++++Assignment No 1++++++++++++++++++++++++++\")\n",
    "#Task 1\n",
    "print(\"\\n Task  No: 1\")\n",
    "print(\"\\t\\t Twinkle,  twinkle,  little  star,\\n\\t\\t\\t How  I  Wonder  What You  are !\\n\\t\\t\\t\\t Up above the world so high, \\n\\t\\t\\t\\t Like a diamond in the sky.\\n\\t\\t Twinkle,  twinkle,  little  star,\\n\\t\\t\\t How  I  Wonder  What You  are  \")\n",
    "\n"
   ]
  },
  {
   "cell_type": "code",
   "execution_count": null,
   "metadata": {},
   "outputs": [],
   "source": []
  },
  {
   "cell_type": "code",
   "execution_count": null,
   "metadata": {},
   "outputs": [],
   "source": []
  },
  {
   "cell_type": "code",
   "execution_count": null,
   "metadata": {},
   "outputs": [],
   "source": []
  }
 ],
 "metadata": {
  "kernelspec": {
   "display_name": "Python 3",
   "language": "python",
   "name": "python3"
  },
  "language_info": {
   "codemirror_mode": {
    "name": "ipython",
    "version": 3
   },
   "file_extension": ".py",
   "mimetype": "text/x-python",
   "name": "python",
   "nbconvert_exporter": "python",
   "pygments_lexer": "ipython3",
   "version": "3.7.4"
  }
 },
 "nbformat": 4,
 "nbformat_minor": 2
}
