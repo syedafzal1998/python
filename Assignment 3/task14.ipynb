{
 "cells": [
  {
   "cell_type": "code",
   "execution_count": 2,
   "metadata": {},
   "outputs": [
    {
     "name": "stdout",
     "output_type": "stream",
     "text": [
      "The SUM OF ALL NUMERIC VALUE IN THE LIST IS: 18\n"
     ]
    }
   ],
   "source": [
    "l=[\"Syed\",1,\"afzal\",3,2,\"Kazmi\",3,4,\"afzal\",5,]\n",
    "add=0\n",
    "for i in range(0,len(l)):\n",
    "    if(type(l[i])==int):\n",
    "        add=add+l[i]\n",
    "print(\"The SUM OF ALL NUMERIC VALUE IN THE LIST IS:\",add)\n",
    "        \n",
    "    \n"
   ]
  },
  {
   "cell_type": "code",
   "execution_count": null,
   "metadata": {},
   "outputs": [],
   "source": []
  },
  {
   "cell_type": "code",
   "execution_count": null,
   "metadata": {},
   "outputs": [],
   "source": []
  },
  {
   "cell_type": "code",
   "execution_count": null,
   "metadata": {},
   "outputs": [],
   "source": []
  }
 ],
 "metadata": {
  "kernelspec": {
   "display_name": "Python 3",
   "language": "python",
   "name": "python3"
  },
  "language_info": {
   "codemirror_mode": {
    "name": "ipython",
    "version": 3
   },
   "file_extension": ".py",
   "mimetype": "text/x-python",
   "name": "python",
   "nbconvert_exporter": "python",
   "pygments_lexer": "ipython3",
   "version": "3.7.3"
  }
 },
 "nbformat": 4,
 "nbformat_minor": 4
}
