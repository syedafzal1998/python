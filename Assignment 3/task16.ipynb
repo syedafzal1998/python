{
 "cells": [
  {
   "cell_type": "code",
   "execution_count": 3,
   "metadata": {},
   "outputs": [
    {
     "name": "stdout",
     "output_type": "stream",
     "text": [
      "The Sum Of Dictinoary Integer Item : 300\n"
     ]
    }
   ],
   "source": [
    "dic={\"a\":100 ,\"b\":100 ,\"c\":100 }\n",
    "t=0\n",
    "for i in dic:\n",
    "    t=t+dic[i]\n",
    "print(\"The Sum Of Dictinoary Integer Item :\",t)"
   ]
  },
  {
   "cell_type": "code",
   "execution_count": null,
   "metadata": {},
   "outputs": [],
   "source": []
  }
 ],
 "metadata": {
  "kernelspec": {
   "display_name": "Python 3",
   "language": "python",
   "name": "python3"
  },
  "language_info": {
   "codemirror_mode": {
    "name": "ipython",
    "version": 3
   },
   "file_extension": ".py",
   "mimetype": "text/x-python",
   "name": "python",
   "nbconvert_exporter": "python",
   "pygments_lexer": "ipython3",
   "version": "3.7.4"
  }
 },
 "nbformat": 4,
 "nbformat_minor": 2
}
