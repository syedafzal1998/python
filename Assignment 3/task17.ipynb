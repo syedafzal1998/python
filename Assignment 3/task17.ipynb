{
 "cells": [
  {
   "cell_type": "code",
   "execution_count": 15,
   "metadata": {},
   "outputs": [
    {
     "name": "stdout",
     "output_type": "stream",
     "text": [
      "[10, 30, 40, 60, 80]\n"
     ]
    }
   ],
   "source": [
    "list1 = [10,20,30,40,60,30,80,10,60,40,60,80] \n",
    "repeated=[]\n",
    "size = len(list1) \n",
    "repeated = [] \n",
    "for i in range(size): \n",
    "    k = i + 1\n",
    "    for j in range(k, size): \n",
    "        if list1[i] == list1[j] and list1[i] not in repeated: \n",
    "            repeated.append(list1[i]) \n",
    "print (repeated) \n",
    "  \n",
    "\n",
    "      \n"
   ]
  },
  {
   "cell_type": "code",
   "execution_count": null,
   "metadata": {},
   "outputs": [],
   "source": []
  }
 ],
 "metadata": {
  "kernelspec": {
   "display_name": "Python 3",
   "language": "python",
   "name": "python3"
  },
  "language_info": {
   "codemirror_mode": {
    "name": "ipython",
    "version": 3
   },
   "file_extension": ".py",
   "mimetype": "text/x-python",
   "name": "python",
   "nbconvert_exporter": "python",
   "pygments_lexer": "ipython3",
   "version": "3.7.4"
  }
 },
 "nbformat": 4,
 "nbformat_minor": 2
}
