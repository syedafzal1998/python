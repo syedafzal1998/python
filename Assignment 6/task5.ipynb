{
 "cells": [
  {
   "cell_type": "code",
   "execution_count": 2,
   "metadata": {},
   "outputs": [],
   "source": [
    "class Car:\n",
    "    def __init__(self, name, model, color=\"white\"):\n",
    "        self.name = name\n",
    "        self.model = model\n",
    "        self.color= color\n",
    "    \n",
    "    def setName(self,name):\n",
    "        self.name=name\n",
    "    def setModel(self,model):\n",
    "        self.model=model\n",
    "    def setColor(self,color):\n",
    "        self.color=color\n",
    "    \n",
    "\n",
    "car1=Car(\"Toyota Corolla Altis Grande 1.8\",\"Corolla Altis\",\"Silver\")\n",
    "car2=Car(\"BMW X1 Series x1\",\"X1\",\"Black\")\n",
    "car3=Car(\"Honda Accord\",\"Accord 2020\")\n",
    "car4=Car(\"Suzuki Alto\",\"2019\")\n",
    "car5=Car(\"Suzuki Cultus\",\"2019\",\"Silver\")\n"
   ]
  },
  {
   "cell_type": "code",
   "execution_count": 3,
   "metadata": {},
   "outputs": [
    {
     "name": "stdout",
     "output_type": "stream",
     "text": [
      "NAME :  Toyota Corolla Altis Grande 1.8 \n",
      "Model: Corolla Altis \n",
      "Color: Silver\n"
     ]
    }
   ],
   "source": [
    "print(\"NAME : \",car1.name,\"\\nModel:\",car1.model,\"\\nColor:\",car1.color)\n"
   ]
  },
  {
   "cell_type": "code",
   "execution_count": 4,
   "metadata": {},
   "outputs": [
    {
     "name": "stdout",
     "output_type": "stream",
     "text": [
      "Color :  Black\n"
     ]
    }
   ],
   "source": [
    "car1.setColor(\"Black\")\n",
    "print(\"Color : \",car1.color)"
   ]
  },
  {
   "cell_type": "code",
   "execution_count": 5,
   "metadata": {},
   "outputs": [
    {
     "data": {
      "text/plain": [
       "'white'"
      ]
     },
     "execution_count": 5,
     "metadata": {},
     "output_type": "execute_result"
    }
   ],
   "source": [
    "car4.color\n"
   ]
  },
  {
   "cell_type": "code",
   "execution_count": null,
   "metadata": {},
   "outputs": [],
   "source": []
  }
 ],
 "metadata": {
  "kernelspec": {
   "display_name": "Python 3",
   "language": "python",
   "name": "python3"
  },
  "language_info": {
   "codemirror_mode": {
    "name": "ipython",
    "version": 3
   },
   "file_extension": ".py",
   "mimetype": "text/x-python",
   "name": "python",
   "nbconvert_exporter": "python",
   "pygments_lexer": "ipython3",
   "version": "3.7.3"
  }
 },
 "nbformat": 4,
 "nbformat_minor": 4
}
