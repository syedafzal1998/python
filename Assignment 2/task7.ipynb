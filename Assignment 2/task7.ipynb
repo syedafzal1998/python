{
 "cells": [
  {
   "cell_type": "code",
   "execution_count": 1,
   "metadata": {},
   "outputs": [
    {
     "name": "stdout",
     "output_type": "stream",
     "text": [
      "Enter Student Name :Muhammad Zubair Minhas\n",
      "Enter First Subject Marks :45\n",
      "Enter Second Subject Marks :67\n",
      "Enter Third Subject Marks :89\n",
      "Enter Fourth Subject Marks :78\n",
      "Enter Fifth Subject Marks :56\n",
      "\n",
      "********************Marksheet of Muhammad Zubair Minhas********************\n",
      "\n",
      "\t\tFirst Subject Mark :45\n",
      "\t\tSecond Subject Mark :67\n",
      "\t\tThird Subject Mark :89\n",
      "\t\tFourth Subject Mark :78\n",
      "\t\tFifth Subject Mark :56\n",
      "\t\tTotal Marks :  500\n",
      "\t\tObtainted Marks : 335\n",
      "\t\tPercentage : 67.0\n",
      "\t\t PASS \n",
      "\t\tGrade :B+ \n"
     ]
    }
   ],
   "source": [
    "name = input(\"Enter Student Name :\")\n",
    "a1 = int(input(\"Enter First Subject Marks :\"))\n",
    "a2 = int(input(\"Enter Second Subject Marks :\"))\n",
    "a3 = int(input(\"Enter Third Subject Marks :\"))\n",
    "a4 = int(input(\"Enter Fourth Subject Marks :\"))\n",
    "a5 = int(input(\"Enter Fifth Subject Marks :\"))\n",
    "tmark = 500\n",
    "tsum = a1+a2+a3+a4+a5\n",
    "per = (tsum*100/tmark)\n",
    "\n",
    "print(f\"\\n********************Marksheet of {name}********************\\n\")\n",
    "print(f\"\\t\\tFirst Subject Mark :{a1}\\n\\t\\tSecond Subject Mark :{a2}\\n\\t\\tThird Subject Mark :{a3}\\n\\t\\tFourth Subject Mark :{a4}\\n\\t\\tFifth Subject Mark :{a5}\")\n",
    "print(\"\\t\\tTotal Marks :  500\")\n",
    "print(f\"\\t\\tObtainted Marks : {tsum}\")\n",
    "print(f\"\\t\\tPercentage : {per}\")\n",
    "\n",
    "if(per>80):\n",
    "    print(\"\\t\\t PASS \")\n",
    "    print(\"\\t\\tGrade :A +\")\n",
    "\n",
    "elif(per<80 and per >70):\n",
    "    print(\"\\t\\t PASS \")\n",
    "    print(\"\\t\\tGrade :A \")\n",
    "\n",
    "elif(per<70 and per >60):\n",
    "    print(\"\\t\\t PASS \")\n",
    "    print(\"\\t\\tGrade :B+ \")\n",
    "\n",
    "elif(per<70 and per >60):\n",
    "    print(\"\\t\\t PASS \")\n",
    "    print(\"\\t\\tGrade :B \")\n",
    "\n",
    "elif(per<60 and per >50):\n",
    "    print(\"\\t\\t PASS \")\n",
    "    print(\"\\t\\tGrade :C \")\n",
    "\n",
    "elif(per<50 and per >40):\n",
    "    print(\"\\t\\t PASS \")\n",
    "    print(\"\\t\\tGrade :D\")\n",
    "\n",
    "else:\n",
    "    print(\"\\t\\t FAIL \")\n",
    "\n",
    "      \n",
    "\n",
    "    \n"
   ]
  },
  {
   "cell_type": "code",
   "execution_count": null,
   "metadata": {},
   "outputs": [],
   "source": []
  }
 ],
 "metadata": {
  "kernelspec": {
   "display_name": "Python 3",
   "language": "python",
   "name": "python3"
  },
  "language_info": {
   "codemirror_mode": {
    "name": "ipython",
    "version": 3
   },
   "file_extension": ".py",
   "mimetype": "text/x-python",
   "name": "python",
   "nbconvert_exporter": "python",
   "pygments_lexer": "ipython3",
   "version": "3.7.4"
  }
 },
 "nbformat": 4,
 "nbformat_minor": 2
}
