{
 "cells": [
  {
   "cell_type": "code",
   "execution_count": 1,
   "metadata": {},
   "outputs": [
    {
     "name": "stdout",
     "output_type": "stream",
     "text": [
      "Enter a number :3\n",
      "3 Is Odd Number\n",
      "If Continue to Enter '0' other wise enter other number : 0\n",
      "Enter a number :12\n",
      "12 Is Even Number\n",
      "If Continue to Enter '0' other wise enter other number : 0\n",
      "Enter a number :34\n",
      "34 Is Even Number\n",
      "If Continue to Enter '0' other wise enter other number : 0\n",
      "Enter a number :15\n",
      "15 Is Odd Number\n",
      "If Continue to Enter '0' other wise enter other number : 1\n"
     ]
    }
   ],
   "source": [
    "l=0\n",
    "while l<1:\n",
    "    num = int(input(\"Enter a number :\"))\n",
    "    c=num%2\n",
    "    if(c==0):\n",
    "        print(f\"{num} Is Even Number\")\n",
    "    else:\n",
    "        print(f\"{num} Is Odd Number\")\n",
    "    l=int(input(\"If Continue to Enter '0' other wise enter other number : \"))\n",
    "\n",
    "\n"
   ]
  },
  {
   "cell_type": "code",
   "execution_count": null,
   "metadata": {},
   "outputs": [],
   "source": []
  }
 ],
 "metadata": {
  "kernelspec": {
   "display_name": "Python 3",
   "language": "python",
   "name": "python3"
  },
  "language_info": {
   "codemirror_mode": {
    "name": "ipython",
    "version": 3
   },
   "file_extension": ".py",
   "mimetype": "text/x-python",
   "name": "python",
   "nbconvert_exporter": "python",
   "pygments_lexer": "ipython3",
   "version": "3.7.4"
  }
 },
 "nbformat": 4,
 "nbformat_minor": 2
}
