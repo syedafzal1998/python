{
 "cells": [
  {
   "cell_type": "code",
   "execution_count": 1,
   "metadata": {},
   "outputs": [
    {
     "name": "stdout",
     "output_type": "stream",
     "text": [
      "List :  [1, 2, 3, 4, 5, 6, 7, 8, 9, 11, 14, 56, 34]\n",
      "The Length Of List Of A Is : 13\n",
      "length of list : 13\n"
     ]
    }
   ],
   "source": [
    "N=0\n",
    "A=[1,2,3,4,5,6,7,8,9,11,14,56,34]\n",
    "for i in A:\n",
    "    N=N+1\n",
    "\n",
    "print(\"List : \",A)\n",
    "print(\"The Length Of List Of A Is :\",N)\n",
    "\n",
    "#second Method\n",
    "print(\"length of list :\",len(A))\n",
    "\n",
    "\n"
   ]
  },
  {
   "cell_type": "code",
   "execution_count": null,
   "metadata": {},
   "outputs": [],
   "source": []
  }
 ],
 "metadata": {
  "kernelspec": {
   "display_name": "Python 3",
   "language": "python",
   "name": "python3"
  },
  "language_info": {
   "codemirror_mode": {
    "name": "ipython",
    "version": 3
   },
   "file_extension": ".py",
   "mimetype": "text/x-python",
   "name": "python",
   "nbconvert_exporter": "python",
   "pygments_lexer": "ipython3",
   "version": "3.7.4"
  }
 },
 "nbformat": 4,
 "nbformat_minor": 2
}
