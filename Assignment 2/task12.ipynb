{
 "cells": [
  {
   "cell_type": "code",
   "execution_count": 1,
   "metadata": {},
   "outputs": [
    {
     "name": "stdout",
     "output_type": "stream",
     "text": [
      "List : [1, 1, 2, 3, 5, 8, 13, 21, 34, 55, 89]\n",
      "The Item Is Present in List A less than 5==> [1, 1, 2, 3]\n",
      "The Item Index that Is Present in List A less than 5==> [[0], [1], [2], [3]]\n"
     ]
    }
   ],
   "source": [
    "A = [1, 1, 2, 3, 5, 8, 13, 21, 34, 55, 89]\n",
    "S=[]\n",
    "L=[]\n",
    "for i in range(0,len(A)):\n",
    "    if(A[i]<5):\n",
    "        S.append(A[i])\n",
    "        L.append([i])\n",
    "print(\"List :\",A)\n",
    "print(\"The Item Is Present in List A less than 5==>\",S)\n",
    "print(\"The Item Index that Is Present in List A less than 5==>\",L)\n",
    "\n"
   ]
  },
  {
   "cell_type": "code",
   "execution_count": null,
   "metadata": {},
   "outputs": [],
   "source": []
  }
 ],
 "metadata": {
  "kernelspec": {
   "display_name": "Python 3",
   "language": "python",
   "name": "python3"
  },
  "language_info": {
   "codemirror_mode": {
    "name": "ipython",
    "version": 3
   },
   "file_extension": ".py",
   "mimetype": "text/x-python",
   "name": "python",
   "nbconvert_exporter": "python",
   "pygments_lexer": "ipython3",
   "version": "3.7.4"
  }
 },
 "nbformat": 4,
 "nbformat_minor": 2
}
