{
 "cells": [
  {
   "cell_type": "code",
   "execution_count": 1,
   "metadata": {},
   "outputs": [
    {
     "name": "stdout",
     "output_type": "stream",
     "text": [
      "List :  [1, 3, 4, 6, 2, 7, 9, 10, 15]\n",
      "The Sum Of All Value IN List A :  57\n"
     ]
    }
   ],
   "source": [
    "A=[1,3,4,6,2,7,9,10,15]\n",
    "a = 0\n",
    "for i in range(0,len(A)):\n",
    "    a = a + A[i]\n",
    "print(\"List : \",A)\n",
    "print(\"The Sum Of All Value IN List A : \",a)\n"
   ]
  },
  {
   "cell_type": "code",
   "execution_count": null,
   "metadata": {},
   "outputs": [],
   "source": []
  }
 ],
 "metadata": {
  "kernelspec": {
   "display_name": "Python 3",
   "language": "python",
   "name": "python3"
  },
  "language_info": {
   "codemirror_mode": {
    "name": "ipython",
    "version": 3
   },
   "file_extension": ".py",
   "mimetype": "text/x-python",
   "name": "python",
   "nbconvert_exporter": "python",
   "pygments_lexer": "ipython3",
   "version": "3.7.4"
  }
 },
 "nbformat": 4,
 "nbformat_minor": 2
}
