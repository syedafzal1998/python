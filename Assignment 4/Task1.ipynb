{
 "cells": [
  {
   "cell_type": "code",
   "execution_count": 2,
   "metadata": {},
   "outputs": [
    {
     "name": "stdout",
     "output_type": "stream",
     "text": [
      "first_name : Syed\n",
      "last_name : Afzal\n",
      "age : 21\n",
      "city : Karachi\n",
      "\n",
      " add qualification \n",
      "\n",
      "first_name : Syed\n",
      "last_name : Afzal\n",
      "age : 21\n",
      "city : Karachi\n",
      "qualification : intermediate\n",
      "\n",
      " update qualification \n",
      "\n",
      "first_name : Syed\n",
      "last_name : Afzal\n",
      "age : 21\n",
      "city : Karachi\n",
      "qualification : high academic\n"
     ]
    }
   ],
   "source": [
    "\n",
    "person_dict={\"first_name\":\"Syed\",\"last_name\":\"Afzal\",\"age\":\"21\",\"city\":\"Karachi\"}\n",
    "for key, value in person_dict.items():\n",
    "    print(key+\" : \"+value)\n",
    "print(\"\\n add qualification \\n\")\n",
    "person_dict[\"qualification\"]=\"intermediate\"\n",
    "for key, value in person_dict.items():\n",
    "    print(key+\" : \"+value)\n",
    "print(\"\\n update qualification \\n\")\n",
    "person_dict[\"qualification\"]=\"high academic\"\n",
    "for key, value in person_dict.items():\n",
    "    print(key+\" : \"+value)"
   ]
  },
  {
   "cell_type": "code",
   "execution_count": null,
   "metadata": {},
   "outputs": [],
   "source": []
  },
  {
   "cell_type": "code",
   "execution_count": null,
   "metadata": {},
   "outputs": [],
   "source": []
  }
 ],
 "metadata": {
  "kernelspec": {
   "display_name": "Python 3",
   "language": "python",
   "name": "python3"
  },
  "language_info": {
   "codemirror_mode": {
    "name": "ipython",
    "version": 3
   },
   "file_extension": ".py",
   "mimetype": "text/x-python",
   "name": "python",
   "nbconvert_exporter": "python",
   "pygments_lexer": "ipython3",
   "version": "3.7.3"
  }
 },
 "nbformat": 4,
 "nbformat_minor": 4
}
